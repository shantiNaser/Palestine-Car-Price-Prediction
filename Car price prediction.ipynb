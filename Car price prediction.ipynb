{
 "cells": [
  {
   "cell_type": "code",
   "execution_count": 1,
   "metadata": {},
   "outputs": [],
   "source": [
    "import pandas as pd\n",
    "import os\n",
    "import matplotlib.pyplot as plt \n",
    "from pandas.plotting import scatter_matrix\n",
    "import numpy as np\n",
    "from sklearn.ensemble import RandomForestClassifier\n",
    "from sklearn.model_selection import train_test_split\n",
    "from sklearn.metrics import accuracy_score\n",
    "from sklearn import tree\n",
    "from sklearn.preprocessing import OneHotEncoder"
   ]
  },
  {
   "cell_type": "markdown",
   "metadata": {},
   "source": [
    "# Here we Load The Data \n"
   ]
  },
  {
   "cell_type": "code",
   "execution_count": 3,
   "metadata": {},
   "outputs": [
    {
     "ename": "AttributeError",
     "evalue": "module 'pandas' has no attribute 'read_xlsx'",
     "output_type": "error",
     "traceback": [
      "\u001b[0;31m---------------------------------------------------------------------------\u001b[0m",
      "\u001b[0;31mAttributeError\u001b[0m                            Traceback (most recent call last)",
      "\u001b[0;32m<ipython-input-3-092c7636db45>\u001b[0m in \u001b[0;36m<module>\u001b[0;34m\u001b[0m\n\u001b[1;32m      1\u001b[0m \u001b[0mcsv_Path\u001b[0m \u001b[0;34m=\u001b[0m \u001b[0mos\u001b[0m\u001b[0;34m.\u001b[0m\u001b[0mpath\u001b[0m\u001b[0;34m.\u001b[0m\u001b[0mjoin\u001b[0m\u001b[0;34m(\u001b[0m\u001b[0;34m\"/Users/macbookpro/Desktop/For Graduation/Data During Edit/during party\"\u001b[0m\u001b[0;34m,\u001b[0m\u001b[0;34m\"Data(party).xlsx\"\u001b[0m\u001b[0;34m)\u001b[0m\u001b[0;34m\u001b[0m\u001b[0;34m\u001b[0m\u001b[0m\n\u001b[0;32m----> 2\u001b[0;31m \u001b[0mMyData\u001b[0m \u001b[0;34m=\u001b[0m \u001b[0mpd\u001b[0m\u001b[0;34m.\u001b[0m\u001b[0mread_xlsx\u001b[0m\u001b[0;34m(\u001b[0m\u001b[0mcsv_Path\u001b[0m\u001b[0;34m)\u001b[0m\u001b[0;34m\u001b[0m\u001b[0;34m\u001b[0m\u001b[0m\n\u001b[0m\u001b[1;32m      3\u001b[0m \u001b[0mMyData\u001b[0m\u001b[0;34m\u001b[0m\u001b[0;34m\u001b[0m\u001b[0m\n",
      "\u001b[0;32m~/Documents/naser_python/lib/python3.8/site-packages/pandas/__init__.py\u001b[0m in \u001b[0;36m__getattr__\u001b[0;34m(name)\u001b[0m\n\u001b[1;32m    242\u001b[0m         \u001b[0;32mreturn\u001b[0m \u001b[0m_SparseArray\u001b[0m\u001b[0;34m\u001b[0m\u001b[0;34m\u001b[0m\u001b[0m\n\u001b[1;32m    243\u001b[0m \u001b[0;34m\u001b[0m\u001b[0m\n\u001b[0;32m--> 244\u001b[0;31m     \u001b[0;32mraise\u001b[0m \u001b[0mAttributeError\u001b[0m\u001b[0;34m(\u001b[0m\u001b[0;34mf\"module 'pandas' has no attribute '{name}'\"\u001b[0m\u001b[0;34m)\u001b[0m\u001b[0;34m\u001b[0m\u001b[0;34m\u001b[0m\u001b[0m\n\u001b[0m\u001b[1;32m    245\u001b[0m \u001b[0;34m\u001b[0m\u001b[0m\n\u001b[1;32m    246\u001b[0m \u001b[0;34m\u001b[0m\u001b[0m\n",
      "\u001b[0;31mAttributeError\u001b[0m: module 'pandas' has no attribute 'read_xlsx'"
     ]
    }
   ],
   "source": [
    "csv_Path = os.path.join(\"/Users/macbookpro/Desktop/For Graduation/Data During Edit/during party\",\"Data(party).xlsx\")\n",
    "MyData = pd.read_xlsx(csv_Path)\n",
    "MyData"
   ]
  },
  {
   "cell_type": "markdown",
   "metadata": {},
   "source": [
    "# Convert The Data Type from Object into Date"
   ]
  },
  {
   "cell_type": "code",
   "execution_count": 5,
   "metadata": {},
   "outputs": [],
   "source": [
    "MyData[\"Ad data push\"] = MyData[\"Ad data push\"].astype(\"datetime64[ns]\")"
   ]
  },
  {
   "cell_type": "code",
   "execution_count": 6,
   "metadata": {},
   "outputs": [
    {
     "name": "stdout",
     "output_type": "stream",
     "text": [
      "<class 'pandas.core.frame.DataFrame'>\n",
      "RangeIndex: 531 entries, 0 to 530\n",
      "Data columns (total 11 columns):\n",
      " #   Column        Non-Null Count  Dtype         \n",
      "---  ------        --------------  -----         \n",
      " 0   Make          531 non-null    object        \n",
      " 1   Model         531 non-null    object        \n",
      " 2   produce year  531 non-null    int64         \n",
      " 3   Color         531 non-null    object        \n",
      " 4   fuel Type     531 non-null    object        \n",
      " 5   gear Type     531 non-null    object        \n",
      " 6   eng power     531 non-null    int64         \n",
      " 7   distance      531 non-null    int64         \n",
      " 8   Origin        531 non-null    object        \n",
      " 9   Ad data push  531 non-null    datetime64[ns]\n",
      " 10  price         531 non-null    int64         \n",
      "dtypes: datetime64[ns](1), int64(4), object(6)\n",
      "memory usage: 45.8+ KB\n"
     ]
    }
   ],
   "source": [
    "MyData.info()"
   ]
  },
  {
   "cell_type": "code",
   "execution_count": 3,
   "metadata": {},
   "outputs": [
    {
     "data": {
      "text/html": [
       "<div>\n",
       "<style scoped>\n",
       "    .dataframe tbody tr th:only-of-type {\n",
       "        vertical-align: middle;\n",
       "    }\n",
       "\n",
       "    .dataframe tbody tr th {\n",
       "        vertical-align: top;\n",
       "    }\n",
       "\n",
       "    .dataframe thead th {\n",
       "        text-align: right;\n",
       "    }\n",
       "</style>\n",
       "<table border=\"1\" class=\"dataframe\">\n",
       "  <thead>\n",
       "    <tr style=\"text-align: right;\">\n",
       "      <th></th>\n",
       "      <th>produce year</th>\n",
       "      <th>eng power</th>\n",
       "      <th>distance</th>\n",
       "      <th>price</th>\n",
       "    </tr>\n",
       "  </thead>\n",
       "  <tbody>\n",
       "    <tr>\n",
       "      <th>count</th>\n",
       "      <td>531.000000</td>\n",
       "      <td>531.000000</td>\n",
       "      <td>5.310000e+02</td>\n",
       "      <td>531.000000</td>\n",
       "    </tr>\n",
       "    <tr>\n",
       "      <th>mean</th>\n",
       "      <td>2008.126177</td>\n",
       "      <td>1714.504708</td>\n",
       "      <td>1.302195e+05</td>\n",
       "      <td>80047.661017</td>\n",
       "    </tr>\n",
       "    <tr>\n",
       "      <th>std</th>\n",
       "      <td>6.650939</td>\n",
       "      <td>499.847103</td>\n",
       "      <td>1.494819e+05</td>\n",
       "      <td>89491.850605</td>\n",
       "    </tr>\n",
       "    <tr>\n",
       "      <th>min</th>\n",
       "      <td>1979.000000</td>\n",
       "      <td>125.000000</td>\n",
       "      <td>8.000000e+03</td>\n",
       "      <td>1111.000000</td>\n",
       "    </tr>\n",
       "    <tr>\n",
       "      <th>25%</th>\n",
       "      <td>2006.000000</td>\n",
       "      <td>1400.000000</td>\n",
       "      <td>4.950000e+04</td>\n",
       "      <td>47750.000000</td>\n",
       "    </tr>\n",
       "    <tr>\n",
       "      <th>50%</th>\n",
       "      <td>2010.000000</td>\n",
       "      <td>1600.000000</td>\n",
       "      <td>9.400000e+04</td>\n",
       "      <td>67000.000000</td>\n",
       "    </tr>\n",
       "    <tr>\n",
       "      <th>75%</th>\n",
       "      <td>2013.000000</td>\n",
       "      <td>1900.000000</td>\n",
       "      <td>1.500000e+05</td>\n",
       "      <td>88500.000000</td>\n",
       "    </tr>\n",
       "    <tr>\n",
       "      <th>max</th>\n",
       "      <td>2016.000000</td>\n",
       "      <td>4800.000000</td>\n",
       "      <td>1.950000e+06</td>\n",
       "      <td>950000.000000</td>\n",
       "    </tr>\n",
       "  </tbody>\n",
       "</table>\n",
       "</div>"
      ],
      "text/plain": [
       "       produce year    eng power      distance          price\n",
       "count    531.000000   531.000000  5.310000e+02     531.000000\n",
       "mean    2008.126177  1714.504708  1.302195e+05   80047.661017\n",
       "std        6.650939   499.847103  1.494819e+05   89491.850605\n",
       "min     1979.000000   125.000000  8.000000e+03    1111.000000\n",
       "25%     2006.000000  1400.000000  4.950000e+04   47750.000000\n",
       "50%     2010.000000  1600.000000  9.400000e+04   67000.000000\n",
       "75%     2013.000000  1900.000000  1.500000e+05   88500.000000\n",
       "max     2016.000000  4800.000000  1.950000e+06  950000.000000"
      ]
     },
     "execution_count": 3,
     "metadata": {},
     "output_type": "execute_result"
    }
   ],
   "source": [
    "MyData.describe()"
   ]
  },
  {
   "cell_type": "markdown",
   "metadata": {},
   "source": [
    "# Histogram Our Data"
   ]
  },
  {
   "cell_type": "code",
   "execution_count": 7,
   "metadata": {
    "scrolled": false
   },
   "outputs": [
    {
     "data": {
      "text/plain": [
       "array([[<AxesSubplot:title={'center':'produce year'}>,\n",
       "        <AxesSubplot:title={'center':'eng power'}>],\n",
       "       [<AxesSubplot:title={'center':'distance'}>,\n",
       "        <AxesSubplot:title={'center':'price'}>]], dtype=object)"
      ]
     },
     "execution_count": 7,
     "metadata": {},
     "output_type": "execute_result"
    },
    {
     "data": {
      "image/png": "[encoded data removed]",
      "text/plain": [
       "<Figure size 1440x1080 with 4 Axes>"
      ]
     },
     "metadata": {
      "needs_background": "light"
     },
     "output_type": "display_data"
    }
   ],
   "source": [
    "MyData.hist(bins=50,figsize=(20,15))"
   ]
  },
  {
   "cell_type": "markdown",
   "metadata": {},
   "source": [
    "# Extract Label(price) from data "
   ]
  },
  {
   "cell_type": "code",
   "execution_count": 8,
   "metadata": {},
   "outputs": [],
   "source": [
    "# Extract Label(price) from data\n",
    "X = MyData.loc[:,MyData.columns != 'price']\n",
    "y = MyData.loc[:, 'price'].values"
   ]
  },
  {
   "cell_type": "code",
   "execution_count": null,
   "metadata": {},
   "outputs": [],
   "source": [
    "# To check The Categorial\n",
    "Car_Name = MyData[[\"Ad data push\"]]\n",
    "enc = OneHotEncoder()\n",
    "Firstname = enc.fit_transform(Car_Name)\n",
    "Firstname.toarray()\n",
    "enc.categories_"
   ]
  },
  {
   "cell_type": "markdown",
   "metadata": {},
   "source": [
    "# Define an Encoder \" OneHotEncoder\" To Deal with The Catergorial Data"
   ]
  },
  {
   "cell_type": "code",
   "execution_count": 9,
   "metadata": {},
   "outputs": [],
   "source": [
    "enc = OneHotEncoder(handle_unknown='ignore')\n",
    "enc1 = OneHotEncoder(handle_unknown='ignore')\n",
    "enc2 = OneHotEncoder(handle_unknown='ignore')\n",
    "enc3 = OneHotEncoder(handle_unknown='ignore')\n",
    "enc4 = OneHotEncoder(handle_unknown='ignore')\n",
    "enc5 = OneHotEncoder(handle_unknown='ignore')\n",
    "enc6 = OneHotEncoder(handle_unknown='ignore')"
   ]
  },
  {
   "cell_type": "code",
   "execution_count": 10,
   "metadata": {},
   "outputs": [
    {
     "data": {
      "text/html": [
       "<div>\n",
       "<style scoped>\n",
       "    .dataframe tbody tr th:only-of-type {\n",
       "        vertical-align: middle;\n",
       "    }\n",
       "\n",
       "    .dataframe tbody tr th {\n",
       "        vertical-align: top;\n",
       "    }\n",
       "\n",
       "    .dataframe thead th {\n",
       "        text-align: right;\n",
       "    }\n",
       "</style>\n",
       "<table border=\"1\" class=\"dataframe\">\n",
       "  <thead>\n",
       "    <tr style=\"text-align: right;\">\n",
       "      <th></th>\n",
       "      <th>Make</th>\n",
       "      <th>Model</th>\n",
       "      <th>produce year</th>\n",
       "      <th>Color</th>\n",
       "      <th>fuel Type</th>\n",
       "      <th>gear Type</th>\n",
       "      <th>eng power</th>\n",
       "      <th>distance</th>\n",
       "      <th>Origin</th>\n",
       "      <th>Ad data push</th>\n",
       "      <th>...</th>\n",
       "      <th>22</th>\n",
       "      <th>23</th>\n",
       "      <th>24</th>\n",
       "      <th>25</th>\n",
       "      <th>26</th>\n",
       "      <th>27</th>\n",
       "      <th>28</th>\n",
       "      <th>29</th>\n",
       "      <th>30</th>\n",
       "      <th>31</th>\n",
       "    </tr>\n",
       "  </thead>\n",
       "  <tbody>\n",
       "    <tr>\n",
       "      <th>0</th>\n",
       "      <td>Fiat</td>\n",
       "      <td>Panda</td>\n",
       "      <td>2010</td>\n",
       "      <td>Golden</td>\n",
       "      <td>Petrol</td>\n",
       "      <td>manuel</td>\n",
       "      <td>1250</td>\n",
       "      <td>100000</td>\n",
       "      <td>private</td>\n",
       "      <td>2016-09-24</td>\n",
       "      <td>...</td>\n",
       "      <td>0.0</td>\n",
       "      <td>0.0</td>\n",
       "      <td>0.0</td>\n",
       "      <td>0.0</td>\n",
       "      <td>0.0</td>\n",
       "      <td>0.0</td>\n",
       "      <td>0.0</td>\n",
       "      <td>0.0</td>\n",
       "      <td>0.0</td>\n",
       "      <td>0.0</td>\n",
       "    </tr>\n",
       "    <tr>\n",
       "      <th>1</th>\n",
       "      <td>Kia</td>\n",
       "      <td>Cerato</td>\n",
       "      <td>2007</td>\n",
       "      <td>Silver</td>\n",
       "      <td>Petrol</td>\n",
       "      <td>Automatic</td>\n",
       "      <td>1600</td>\n",
       "      <td>103000</td>\n",
       "      <td>private</td>\n",
       "      <td>2016-09-26</td>\n",
       "      <td>...</td>\n",
       "      <td>0.0</td>\n",
       "      <td>0.0</td>\n",
       "      <td>0.0</td>\n",
       "      <td>0.0</td>\n",
       "      <td>0.0</td>\n",
       "      <td>0.0</td>\n",
       "      <td>0.0</td>\n",
       "      <td>0.0</td>\n",
       "      <td>0.0</td>\n",
       "      <td>0.0</td>\n",
       "    </tr>\n",
       "    <tr>\n",
       "      <th>2</th>\n",
       "      <td>Opel</td>\n",
       "      <td>Astra</td>\n",
       "      <td>2011</td>\n",
       "      <td>Black</td>\n",
       "      <td>Petrol</td>\n",
       "      <td>manuel</td>\n",
       "      <td>1600</td>\n",
       "      <td>106000</td>\n",
       "      <td>private</td>\n",
       "      <td>2016-09-20</td>\n",
       "      <td>...</td>\n",
       "      <td>0.0</td>\n",
       "      <td>0.0</td>\n",
       "      <td>0.0</td>\n",
       "      <td>0.0</td>\n",
       "      <td>0.0</td>\n",
       "      <td>0.0</td>\n",
       "      <td>0.0</td>\n",
       "      <td>0.0</td>\n",
       "      <td>0.0</td>\n",
       "      <td>0.0</td>\n",
       "    </tr>\n",
       "    <tr>\n",
       "      <th>3</th>\n",
       "      <td>VW</td>\n",
       "      <td>Polo</td>\n",
       "      <td>2011</td>\n",
       "      <td>Red</td>\n",
       "      <td>Petrol</td>\n",
       "      <td>manuel</td>\n",
       "      <td>1400</td>\n",
       "      <td>116000</td>\n",
       "      <td>private</td>\n",
       "      <td>2016-09-21</td>\n",
       "      <td>...</td>\n",
       "      <td>0.0</td>\n",
       "      <td>0.0</td>\n",
       "      <td>0.0</td>\n",
       "      <td>0.0</td>\n",
       "      <td>0.0</td>\n",
       "      <td>0.0</td>\n",
       "      <td>0.0</td>\n",
       "      <td>1.0</td>\n",
       "      <td>0.0</td>\n",
       "      <td>0.0</td>\n",
       "    </tr>\n",
       "    <tr>\n",
       "      <th>4</th>\n",
       "      <td>Kia</td>\n",
       "      <td>Sportage</td>\n",
       "      <td>2011</td>\n",
       "      <td>Residential</td>\n",
       "      <td>Diesel</td>\n",
       "      <td>Automatic</td>\n",
       "      <td>2000</td>\n",
       "      <td>118000</td>\n",
       "      <td>private</td>\n",
       "      <td>2016-09-22</td>\n",
       "      <td>...</td>\n",
       "      <td>0.0</td>\n",
       "      <td>0.0</td>\n",
       "      <td>0.0</td>\n",
       "      <td>0.0</td>\n",
       "      <td>0.0</td>\n",
       "      <td>0.0</td>\n",
       "      <td>0.0</td>\n",
       "      <td>0.0</td>\n",
       "      <td>0.0</td>\n",
       "      <td>0.0</td>\n",
       "    </tr>\n",
       "    <tr>\n",
       "      <th>...</th>\n",
       "      <td>...</td>\n",
       "      <td>...</td>\n",
       "      <td>...</td>\n",
       "      <td>...</td>\n",
       "      <td>...</td>\n",
       "      <td>...</td>\n",
       "      <td>...</td>\n",
       "      <td>...</td>\n",
       "      <td>...</td>\n",
       "      <td>...</td>\n",
       "      <td>...</td>\n",
       "      <td>...</td>\n",
       "      <td>...</td>\n",
       "      <td>...</td>\n",
       "      <td>...</td>\n",
       "      <td>...</td>\n",
       "      <td>...</td>\n",
       "      <td>...</td>\n",
       "      <td>...</td>\n",
       "      <td>...</td>\n",
       "      <td>...</td>\n",
       "    </tr>\n",
       "    <tr>\n",
       "      <th>526</th>\n",
       "      <td>Hyundai</td>\n",
       "      <td>i25</td>\n",
       "      <td>2011</td>\n",
       "      <td>White</td>\n",
       "      <td>Diesel</td>\n",
       "      <td>manuel</td>\n",
       "      <td>1600</td>\n",
       "      <td>70000</td>\n",
       "      <td>private</td>\n",
       "      <td>2016-09-25</td>\n",
       "      <td>...</td>\n",
       "      <td>0.0</td>\n",
       "      <td>0.0</td>\n",
       "      <td>0.0</td>\n",
       "      <td>0.0</td>\n",
       "      <td>0.0</td>\n",
       "      <td>0.0</td>\n",
       "      <td>0.0</td>\n",
       "      <td>0.0</td>\n",
       "      <td>0.0</td>\n",
       "      <td>0.0</td>\n",
       "    </tr>\n",
       "    <tr>\n",
       "      <th>527</th>\n",
       "      <td>Opel</td>\n",
       "      <td>Corsa</td>\n",
       "      <td>2012</td>\n",
       "      <td>Kermidi</td>\n",
       "      <td>Petrol</td>\n",
       "      <td>manuel</td>\n",
       "      <td>1400</td>\n",
       "      <td>77000</td>\n",
       "      <td>private</td>\n",
       "      <td>2016-09-21</td>\n",
       "      <td>...</td>\n",
       "      <td>0.0</td>\n",
       "      <td>0.0</td>\n",
       "      <td>0.0</td>\n",
       "      <td>0.0</td>\n",
       "      <td>0.0</td>\n",
       "      <td>0.0</td>\n",
       "      <td>0.0</td>\n",
       "      <td>0.0</td>\n",
       "      <td>0.0</td>\n",
       "      <td>0.0</td>\n",
       "    </tr>\n",
       "    <tr>\n",
       "      <th>528</th>\n",
       "      <td>Citroen</td>\n",
       "      <td>Ds5</td>\n",
       "      <td>2015</td>\n",
       "      <td>Russet</td>\n",
       "      <td>Petrol</td>\n",
       "      <td>Automatic</td>\n",
       "      <td>1600</td>\n",
       "      <td>8000</td>\n",
       "      <td>private</td>\n",
       "      <td>2016-09-26</td>\n",
       "      <td>...</td>\n",
       "      <td>0.0</td>\n",
       "      <td>0.0</td>\n",
       "      <td>0.0</td>\n",
       "      <td>0.0</td>\n",
       "      <td>0.0</td>\n",
       "      <td>0.0</td>\n",
       "      <td>0.0</td>\n",
       "      <td>0.0</td>\n",
       "      <td>0.0</td>\n",
       "      <td>0.0</td>\n",
       "    </tr>\n",
       "    <tr>\n",
       "      <th>529</th>\n",
       "      <td>Volkswagen</td>\n",
       "      <td>Passat</td>\n",
       "      <td>2006</td>\n",
       "      <td>Black Metallic</td>\n",
       "      <td>Diesel</td>\n",
       "      <td>Automatic</td>\n",
       "      <td>2000</td>\n",
       "      <td>85000</td>\n",
       "      <td>private</td>\n",
       "      <td>2016-09-22</td>\n",
       "      <td>...</td>\n",
       "      <td>0.0</td>\n",
       "      <td>0.0</td>\n",
       "      <td>0.0</td>\n",
       "      <td>0.0</td>\n",
       "      <td>0.0</td>\n",
       "      <td>0.0</td>\n",
       "      <td>0.0</td>\n",
       "      <td>0.0</td>\n",
       "      <td>1.0</td>\n",
       "      <td>0.0</td>\n",
       "    </tr>\n",
       "    <tr>\n",
       "      <th>530</th>\n",
       "      <td>Fiat</td>\n",
       "      <td>Punto</td>\n",
       "      <td>2010</td>\n",
       "      <td>Black</td>\n",
       "      <td>Petrol</td>\n",
       "      <td>manuel</td>\n",
       "      <td>1250</td>\n",
       "      <td>90000</td>\n",
       "      <td>private</td>\n",
       "      <td>2016-09-21</td>\n",
       "      <td>...</td>\n",
       "      <td>0.0</td>\n",
       "      <td>0.0</td>\n",
       "      <td>0.0</td>\n",
       "      <td>0.0</td>\n",
       "      <td>0.0</td>\n",
       "      <td>0.0</td>\n",
       "      <td>0.0</td>\n",
       "      <td>0.0</td>\n",
       "      <td>0.0</td>\n",
       "      <td>0.0</td>\n",
       "    </tr>\n",
       "  </tbody>\n",
       "</table>\n",
       "<p>531 rows × 42 columns</p>\n",
       "</div>"
      ],
      "text/plain": [
       "           Make     Model  produce year            Color fuel Type  gear Type  \\\n",
       "0          Fiat     Panda          2010          Golden    Petrol      manuel   \n",
       "1           Kia    Cerato          2007          Silver    Petrol   Automatic   \n",
       "2          Opel     Astra          2011           Black    Petrol      manuel   \n",
       "3            VW      Polo          2011             Red    Petrol      manuel   \n",
       "4           Kia  Sportage          2011     Residential    Diesel   Automatic   \n",
       "..          ...       ...           ...              ...       ...        ...   \n",
       "526     Hyundai       i25          2011           White    Diesel      manuel   \n",
       "527        Opel     Corsa          2012         Kermidi    Petrol      manuel   \n",
       "528     Citroen       Ds5          2015          Russet    Petrol   Automatic   \n",
       "529  Volkswagen    Passat          2006  Black Metallic    Diesel   Automatic   \n",
       "530        Fiat     Punto          2010           Black    Petrol      manuel   \n",
       "\n",
       "     eng power  distance    Origin Ad data push  ...   22   23   24   25   26  \\\n",
       "0         1250    100000  private    2016-09-24  ...  0.0  0.0  0.0  0.0  0.0   \n",
       "1         1600    103000  private    2016-09-26  ...  0.0  0.0  0.0  0.0  0.0   \n",
       "2         1600    106000  private    2016-09-20  ...  0.0  0.0  0.0  0.0  0.0   \n",
       "3         1400    116000  private    2016-09-21  ...  0.0  0.0  0.0  0.0  0.0   \n",
       "4         2000    118000  private    2016-09-22  ...  0.0  0.0  0.0  0.0  0.0   \n",
       "..         ...       ...       ...          ...  ...  ...  ...  ...  ...  ...   \n",
       "526       1600     70000  private    2016-09-25  ...  0.0  0.0  0.0  0.0  0.0   \n",
       "527       1400     77000  private    2016-09-21  ...  0.0  0.0  0.0  0.0  0.0   \n",
       "528       1600      8000  private    2016-09-26  ...  0.0  0.0  0.0  0.0  0.0   \n",
       "529       2000     85000  private    2016-09-22  ...  0.0  0.0  0.0  0.0  0.0   \n",
       "530       1250     90000  private    2016-09-21  ...  0.0  0.0  0.0  0.0  0.0   \n",
       "\n",
       "      27   28   29   30   31  \n",
       "0    0.0  0.0  0.0  0.0  0.0  \n",
       "1    0.0  0.0  0.0  0.0  0.0  \n",
       "2    0.0  0.0  0.0  0.0  0.0  \n",
       "3    0.0  0.0  1.0  0.0  0.0  \n",
       "4    0.0  0.0  0.0  0.0  0.0  \n",
       "..   ...  ...  ...  ...  ...  \n",
       "526  0.0  0.0  0.0  0.0  0.0  \n",
       "527  0.0  0.0  0.0  0.0  0.0  \n",
       "528  0.0  0.0  0.0  0.0  0.0  \n",
       "529  0.0  0.0  0.0  1.0  0.0  \n",
       "530  0.0  0.0  0.0  0.0  0.0  \n",
       "\n",
       "[531 rows x 42 columns]"
      ]
     },
     "execution_count": 10,
     "metadata": {},
     "output_type": "execute_result"
    }
   ],
   "source": [
    "# Deal with The First Column \"Make\"\n",
    "enc_df = pd.DataFrame(enc.fit_transform(X[[\"Make\"]]).toarray())\n",
    "# merge with The Created Set\n",
    "X = X.join(enc_df)\n",
    "X"
   ]
  },
  {
   "cell_type": "code",
   "execution_count": 11,
   "metadata": {},
   "outputs": [
    {
     "data": {
      "text/html": [
       "<div>\n",
       "<style scoped>\n",
       "    .dataframe tbody tr th:only-of-type {\n",
       "        vertical-align: middle;\n",
       "    }\n",
       "\n",
       "    .dataframe tbody tr th {\n",
       "        vertical-align: top;\n",
       "    }\n",
       "\n",
       "    .dataframe thead th {\n",
       "        text-align: right;\n",
       "    }\n",
       "</style>\n",
       "<table border=\"1\" class=\"dataframe\">\n",
       "  <thead>\n",
       "    <tr style=\"text-align: right;\">\n",
       "      <th></th>\n",
       "      <th>Make</th>\n",
       "      <th>Model</th>\n",
       "      <th>produce year</th>\n",
       "      <th>Color</th>\n",
       "      <th>fuel Type</th>\n",
       "      <th>gear Type</th>\n",
       "      <th>eng power</th>\n",
       "      <th>distance</th>\n",
       "      <th>Origin</th>\n",
       "      <th>Ad data push</th>\n",
       "      <th>...</th>\n",
       "      <th>i10</th>\n",
       "      <th>i120</th>\n",
       "      <th>i20</th>\n",
       "      <th>i25</th>\n",
       "      <th>i30</th>\n",
       "      <th>ix35</th>\n",
       "      <th>s400</th>\n",
       "      <th>s75</th>\n",
       "      <th>sofa</th>\n",
       "      <th>x3</th>\n",
       "    </tr>\n",
       "  </thead>\n",
       "  <tbody>\n",
       "    <tr>\n",
       "      <th>0</th>\n",
       "      <td>Fiat</td>\n",
       "      <td>Panda</td>\n",
       "      <td>2010</td>\n",
       "      <td>Golden</td>\n",
       "      <td>Petrol</td>\n",
       "      <td>manuel</td>\n",
       "      <td>1250</td>\n",
       "      <td>100000</td>\n",
       "      <td>private</td>\n",
       "      <td>2016-09-24</td>\n",
       "      <td>...</td>\n",
       "      <td>0.0</td>\n",
       "      <td>0.0</td>\n",
       "      <td>0.0</td>\n",
       "      <td>0.0</td>\n",
       "      <td>0.0</td>\n",
       "      <td>0.0</td>\n",
       "      <td>0.0</td>\n",
       "      <td>0.0</td>\n",
       "      <td>0.0</td>\n",
       "      <td>0.0</td>\n",
       "    </tr>\n",
       "    <tr>\n",
       "      <th>1</th>\n",
       "      <td>Kia</td>\n",
       "      <td>Cerato</td>\n",
       "      <td>2007</td>\n",
       "      <td>Silver</td>\n",
       "      <td>Petrol</td>\n",
       "      <td>Automatic</td>\n",
       "      <td>1600</td>\n",
       "      <td>103000</td>\n",
       "      <td>private</td>\n",
       "      <td>2016-09-26</td>\n",
       "      <td>...</td>\n",
       "      <td>0.0</td>\n",
       "      <td>0.0</td>\n",
       "      <td>0.0</td>\n",
       "      <td>0.0</td>\n",
       "      <td>0.0</td>\n",
       "      <td>0.0</td>\n",
       "      <td>0.0</td>\n",
       "      <td>0.0</td>\n",
       "      <td>0.0</td>\n",
       "      <td>0.0</td>\n",
       "    </tr>\n",
       "    <tr>\n",
       "      <th>2</th>\n",
       "      <td>Opel</td>\n",
       "      <td>Astra</td>\n",
       "      <td>2011</td>\n",
       "      <td>Black</td>\n",
       "      <td>Petrol</td>\n",
       "      <td>manuel</td>\n",
       "      <td>1600</td>\n",
       "      <td>106000</td>\n",
       "      <td>private</td>\n",
       "      <td>2016-09-20</td>\n",
       "      <td>...</td>\n",
       "      <td>0.0</td>\n",
       "      <td>0.0</td>\n",
       "      <td>0.0</td>\n",
       "      <td>0.0</td>\n",
       "      <td>0.0</td>\n",
       "      <td>0.0</td>\n",
       "      <td>0.0</td>\n",
       "      <td>0.0</td>\n",
       "      <td>0.0</td>\n",
       "      <td>0.0</td>\n",
       "    </tr>\n",
       "    <tr>\n",
       "      <th>3</th>\n",
       "      <td>VW</td>\n",
       "      <td>Polo</td>\n",
       "      <td>2011</td>\n",
       "      <td>Red</td>\n",
       "      <td>Petrol</td>\n",
       "      <td>manuel</td>\n",
       "      <td>1400</td>\n",
       "      <td>116000</td>\n",
       "      <td>private</td>\n",
       "      <td>2016-09-21</td>\n",
       "      <td>...</td>\n",
       "      <td>0.0</td>\n",
       "      <td>0.0</td>\n",
       "      <td>0.0</td>\n",
       "      <td>0.0</td>\n",
       "      <td>0.0</td>\n",
       "      <td>0.0</td>\n",
       "      <td>0.0</td>\n",
       "      <td>0.0</td>\n",
       "      <td>0.0</td>\n",
       "      <td>0.0</td>\n",
       "    </tr>\n",
       "    <tr>\n",
       "      <th>4</th>\n",
       "      <td>Kia</td>\n",
       "      <td>Sportage</td>\n",
       "      <td>2011</td>\n",
       "      <td>Residential</td>\n",
       "      <td>Diesel</td>\n",
       "      <td>Automatic</td>\n",
       "      <td>2000</td>\n",
       "      <td>118000</td>\n",
       "      <td>private</td>\n",
       "      <td>2016-09-22</td>\n",
       "      <td>...</td>\n",
       "      <td>0.0</td>\n",
       "      <td>0.0</td>\n",
       "      <td>0.0</td>\n",
       "      <td>0.0</td>\n",
       "      <td>0.0</td>\n",
       "      <td>0.0</td>\n",
       "      <td>0.0</td>\n",
       "      <td>0.0</td>\n",
       "      <td>0.0</td>\n",
       "      <td>0.0</td>\n",
       "    </tr>\n",
       "    <tr>\n",
       "      <th>...</th>\n",
       "      <td>...</td>\n",
       "      <td>...</td>\n",
       "      <td>...</td>\n",
       "      <td>...</td>\n",
       "      <td>...</td>\n",
       "      <td>...</td>\n",
       "      <td>...</td>\n",
       "      <td>...</td>\n",
       "      <td>...</td>\n",
       "      <td>...</td>\n",
       "      <td>...</td>\n",
       "      <td>...</td>\n",
       "      <td>...</td>\n",
       "      <td>...</td>\n",
       "      <td>...</td>\n",
       "      <td>...</td>\n",
       "      <td>...</td>\n",
       "      <td>...</td>\n",
       "      <td>...</td>\n",
       "      <td>...</td>\n",
       "      <td>...</td>\n",
       "    </tr>\n",
       "    <tr>\n",
       "      <th>526</th>\n",
       "      <td>Hyundai</td>\n",
       "      <td>i25</td>\n",
       "      <td>2011</td>\n",
       "      <td>White</td>\n",
       "      <td>Diesel</td>\n",
       "      <td>manuel</td>\n",
       "      <td>1600</td>\n",
       "      <td>70000</td>\n",
       "      <td>private</td>\n",
       "      <td>2016-09-25</td>\n",
       "      <td>...</td>\n",
       "      <td>0.0</td>\n",
       "      <td>0.0</td>\n",
       "      <td>0.0</td>\n",
       "      <td>1.0</td>\n",
       "      <td>0.0</td>\n",
       "      <td>0.0</td>\n",
       "      <td>0.0</td>\n",
       "      <td>0.0</td>\n",
       "      <td>0.0</td>\n",
       "      <td>0.0</td>\n",
       "    </tr>\n",
       "    <tr>\n",
       "      <th>527</th>\n",
       "      <td>Opel</td>\n",
       "      <td>Corsa</td>\n",
       "      <td>2012</td>\n",
       "      <td>Kermidi</td>\n",
       "      <td>Petrol</td>\n",
       "      <td>manuel</td>\n",
       "      <td>1400</td>\n",
       "      <td>77000</td>\n",
       "      <td>private</td>\n",
       "      <td>2016-09-21</td>\n",
       "      <td>...</td>\n",
       "      <td>0.0</td>\n",
       "      <td>0.0</td>\n",
       "      <td>0.0</td>\n",
       "      <td>0.0</td>\n",
       "      <td>0.0</td>\n",
       "      <td>0.0</td>\n",
       "      <td>0.0</td>\n",
       "      <td>0.0</td>\n",
       "      <td>0.0</td>\n",
       "      <td>0.0</td>\n",
       "    </tr>\n",
       "    <tr>\n",
       "      <th>528</th>\n",
       "      <td>Citroen</td>\n",
       "      <td>Ds5</td>\n",
       "      <td>2015</td>\n",
       "      <td>Russet</td>\n",
       "      <td>Petrol</td>\n",
       "      <td>Automatic</td>\n",
       "      <td>1600</td>\n",
       "      <td>8000</td>\n",
       "      <td>private</td>\n",
       "      <td>2016-09-26</td>\n",
       "      <td>...</td>\n",
       "      <td>0.0</td>\n",
       "      <td>0.0</td>\n",
       "      <td>0.0</td>\n",
       "      <td>0.0</td>\n",
       "      <td>0.0</td>\n",
       "      <td>0.0</td>\n",
       "      <td>0.0</td>\n",
       "      <td>0.0</td>\n",
       "      <td>0.0</td>\n",
       "      <td>0.0</td>\n",
       "    </tr>\n",
       "    <tr>\n",
       "      <th>529</th>\n",
       "      <td>Volkswagen</td>\n",
       "      <td>Passat</td>\n",
       "      <td>2006</td>\n",
       "      <td>Black Metallic</td>\n",
       "      <td>Diesel</td>\n",
       "      <td>Automatic</td>\n",
       "      <td>2000</td>\n",
       "      <td>85000</td>\n",
       "      <td>private</td>\n",
       "      <td>2016-09-22</td>\n",
       "      <td>...</td>\n",
       "      <td>0.0</td>\n",
       "      <td>0.0</td>\n",
       "      <td>0.0</td>\n",
       "      <td>0.0</td>\n",
       "      <td>0.0</td>\n",
       "      <td>0.0</td>\n",
       "      <td>0.0</td>\n",
       "      <td>0.0</td>\n",
       "      <td>0.0</td>\n",
       "      <td>0.0</td>\n",
       "    </tr>\n",
       "    <tr>\n",
       "      <th>530</th>\n",
       "      <td>Fiat</td>\n",
       "      <td>Punto</td>\n",
       "      <td>2010</td>\n",
       "      <td>Black</td>\n",
       "      <td>Petrol</td>\n",
       "      <td>manuel</td>\n",
       "      <td>1250</td>\n",
       "      <td>90000</td>\n",
       "      <td>private</td>\n",
       "      <td>2016-09-21</td>\n",
       "      <td>...</td>\n",
       "      <td>0.0</td>\n",
       "      <td>0.0</td>\n",
       "      <td>0.0</td>\n",
       "      <td>0.0</td>\n",
       "      <td>0.0</td>\n",
       "      <td>0.0</td>\n",
       "      <td>0.0</td>\n",
       "      <td>0.0</td>\n",
       "      <td>0.0</td>\n",
       "      <td>0.0</td>\n",
       "    </tr>\n",
       "  </tbody>\n",
       "</table>\n",
       "<p>531 rows × 199 columns</p>\n",
       "</div>"
      ],
      "text/plain": [
       "           Make     Model  produce year            Color fuel Type  gear Type  \\\n",
       "0          Fiat     Panda          2010          Golden    Petrol      manuel   \n",
       "1           Kia    Cerato          2007          Silver    Petrol   Automatic   \n",
       "2          Opel     Astra          2011           Black    Petrol      manuel   \n",
       "3            VW      Polo          2011             Red    Petrol      manuel   \n",
       "4           Kia  Sportage          2011     Residential    Diesel   Automatic   \n",
       "..          ...       ...           ...              ...       ...        ...   \n",
       "526     Hyundai       i25          2011           White    Diesel      manuel   \n",
       "527        Opel     Corsa          2012         Kermidi    Petrol      manuel   \n",
       "528     Citroen       Ds5          2015          Russet    Petrol   Automatic   \n",
       "529  Volkswagen    Passat          2006  Black Metallic    Diesel   Automatic   \n",
       "530        Fiat     Punto          2010           Black    Petrol      manuel   \n",
       "\n",
       "     eng power  distance    Origin Ad data push  ...  i10  i120  i20  i25  \\\n",
       "0         1250    100000  private    2016-09-24  ...  0.0   0.0  0.0  0.0   \n",
       "1         1600    103000  private    2016-09-26  ...  0.0   0.0  0.0  0.0   \n",
       "2         1600    106000  private    2016-09-20  ...  0.0   0.0  0.0  0.0   \n",
       "3         1400    116000  private    2016-09-21  ...  0.0   0.0  0.0  0.0   \n",
       "4         2000    118000  private    2016-09-22  ...  0.0   0.0  0.0  0.0   \n",
       "..         ...       ...       ...          ...  ...  ...   ...  ...  ...   \n",
       "526       1600     70000  private    2016-09-25  ...  0.0   0.0  0.0  1.0   \n",
       "527       1400     77000  private    2016-09-21  ...  0.0   0.0  0.0  0.0   \n",
       "528       1600      8000  private    2016-09-26  ...  0.0   0.0  0.0  0.0   \n",
       "529       2000     85000  private    2016-09-22  ...  0.0   0.0  0.0  0.0   \n",
       "530       1250     90000  private    2016-09-21  ...  0.0   0.0  0.0  0.0   \n",
       "\n",
       "     i30  ix35  s400  s75  sofa   x3  \n",
       "0    0.0   0.0   0.0  0.0   0.0  0.0  \n",
       "1    0.0   0.0   0.0  0.0   0.0  0.0  \n",
       "2    0.0   0.0   0.0  0.0   0.0  0.0  \n",
       "3    0.0   0.0   0.0  0.0   0.0  0.0  \n",
       "4    0.0   0.0   0.0  0.0   0.0  0.0  \n",
       "..   ...   ...   ...  ...   ...  ...  \n",
       "526  0.0   0.0   0.0  0.0   0.0  0.0  \n",
       "527  0.0   0.0   0.0  0.0   0.0  0.0  \n",
       "528  0.0   0.0   0.0  0.0   0.0  0.0  \n",
       "529  0.0   0.0   0.0  0.0   0.0  0.0  \n",
       "530  0.0   0.0   0.0  0.0   0.0  0.0  \n",
       "\n",
       "[531 rows x 199 columns]"
      ]
     },
     "execution_count": 11,
     "metadata": {},
     "output_type": "execute_result"
    }
   ],
   "source": [
    "enc_df1 = pd.DataFrame(enc1.fit_transform(X[[\"Model\"]]).toarray())\n",
    "enc_df1.columns = ['107', '2002', '2008', '206+', '207', '220', '3', '301', '305',\n",
    "        '307', '308', '316', '318', '323', '325',\n",
    "        '328i sport line black edition', '330', '3900', '405', '406',\n",
    "        '412', '416', '508', '520', '525', '55', '6', '6 +1', '80', '814',\n",
    "        'A4', 'A5', 'A80', 'Accent', 'Ascona', 'Astra', 'Avante', 'Aveo',\n",
    "        'Berlingo', 'Bora', 'Brantr', 'C-Elysee', 'C200', 'C220', 'C250',\n",
    "        'C4', 'C4 Picasso', 'C5', 'CC', 'CR-V', 'Caddy', 'Cerato', 'Civic',\n",
    "        'Click', 'Cordoba', 'Corolla', 'Corsa', 'Cruze', 'Ds5', 'E270',\n",
    "        'E90', 'Elantra', 'Fabia', 'Felicia', 'Fiesta', 'Fl6', 'Fl614',\n",
    "        'Focus', 'Ford Turnzi', 'Forte', 'GL350', 'GTI', 'Gates', 'Golf',\n",
    "        'Golf Plus', 'Hendaa', 'Ibiza', 'Impreza', 'Jetta', 'Juke',\n",
    "        'Jumpy2012', 'Kadett', 'Kraval', 'Kravcr', 'L200', 'LT', 'Lancer',\n",
    "        'Land Cruiser', 'ML350', 'Malibu', 'Matiz', 'Mercedes CLA200',\n",
    "        'Octavia', 'Optima', 'Optra', 'Pajero', 'Panda', 'Partner',\n",
    "        'Passat', 'Piaggio 250', 'Picanto', 'Polo', 'Polo Match 2013',\n",
    "        'Pride', 'Punto', 'Q5', 'Q7', 'R9', 'Rapid', 'Rio', 'Roomster',\n",
    "        'SL350', 'Santaver', 'Savannah', 'Sayed', 'Sazuki GS500', 'Sonata',\n",
    "        'Sorento', 'Soul', 'Space Star', 'Sportage', 'Sprinter', 'Superb',\n",
    "        'Tiguan', 'Tiida', 'Touran', 'Transporter', 'Traverse', 'Trooper',\n",
    "        'Tucson', 'Uno', 'Vectra', 'Velostr', 'Verna', 'Vorino', 'Vrino',\n",
    "        'Wide', 'Yeti', 'Young Rxton', 'Zafira', 'a3', 'ant',\n",
    "        'cf 6x4 430 flipflop', 'developer', 'doblo', 'eyelash',\n",
    "        'eyelash 2009', 'i10', 'i120', 'i20', 'i25', 'i30', 'ix35', 's400',\n",
    "        's75', 'sofa', 'x3']\n",
    "X = X.join(enc_df1)\n",
    "X"
   ]
  },
  {
   "cell_type": "code",
   "execution_count": null,
   "metadata": {},
   "outputs": [],
   "source": [
    "\n",
    "# enc_df2 = pd.DataFrame(enc2.fit_transform(X[[\"Color\"]]).toarray())\n",
    "# enc_df2.columns = ['Army color ', 'Black ', 'Black Metallic ', 'Blue ', 'Blue Cyan ',\n",
    "#         'Brown ', 'Ferrani ', 'Golden ', 'Gray ', 'Green ', 'Ivory ',\n",
    "#         'Kermidi ', 'Oily Color ', 'Orange ', 'Purple ', 'Red ',\n",
    "#         'Residential ', 'Russet ', 'Silver ', 'White ', 'White Ivory ',\n",
    "#         'Yellow ', 'grey R ', 'بترولي ', 'عدة الوان ']\n",
    "\n",
    "\n",
    "# X = X.join(enc_df2)\n"
   ]
  },
  {
   "cell_type": "code",
   "execution_count": 12,
   "metadata": {},
   "outputs": [],
   "source": [
    "\n",
    "enc_df3 = pd.DataFrame(enc3.fit_transform(X[[\"fuel Type\"]]).toarray())\n",
    "enc_df3.columns = ['Diesel ', 'Petrol ']\n",
    "X = X.join(enc_df3)\n"
   ]
  },
  {
   "cell_type": "code",
   "execution_count": 13,
   "metadata": {},
   "outputs": [],
   "source": [
    "\n",
    "enc_df4 = pd.DataFrame(enc4.fit_transform(X[[\"gear Type\"]]).toarray())\n",
    "enc_df4.columns = ['Automatic', 'manuel']\n",
    "X = X.join(enc_df4)\n"
   ]
  },
  {
   "cell_type": "code",
   "execution_count": 14,
   "metadata": {},
   "outputs": [],
   "source": [
    "\n",
    "enc_df5 = pd.DataFrame(enc5.fit_transform(X[[\"Origin\"]]).toarray())\n",
    "enc_df5.columns = ['Commercial ', 'Rental ', 'Taxi ', 'private ', 'training ']\n",
    "X = X.join(enc_df5)\n"
   ]
  },
  {
   "cell_type": "code",
   "execution_count": null,
   "metadata": {},
   "outputs": [],
   "source": [
    "# enc_df6 = pd.DataFrame(enc5.fit_transform(X[[\"Ad data push\"]]).toarray())\n",
    "# enc_df6.columns = ['2016-01-10T00:00:00.000000000', '2016-02-10T00:00:00.000000000',\n",
    "#         '2016-09-20T00:00:00.000000000', '2016-09-21T00:00:00.000000000',\n",
    "#         '2016-09-22T00:00:00.000000000', '2016-09-24T00:00:00.000000000',\n",
    "#         '2016-09-25T00:00:00.000000000', '2016-09-26T00:00:00.000000000',\n",
    "#         '2016-09-27T00:00:00.000000000', '2016-09-28T00:00:00.000000000',\n",
    "#         '2016-09-30T00:00:00.000000000', '2016-10-10T00:00:00.000000000',\n",
    "#         '2017-03-01T00:00:00.000000000']\n",
    "# X = X.join(enc_df6)"
   ]
  },
  {
   "cell_type": "markdown",
   "metadata": {},
   "source": [
    "# Drop the Unneccessary Column after Created The New Cloumn"
   ]
  },
  {
   "cell_type": "code",
   "execution_count": 15,
   "metadata": {},
   "outputs": [],
   "source": [
    "X.drop(\"Make\",axis=\"columns\",inplace=True)\n",
    "X.drop(\"Model\",axis=\"columns\",inplace=True)\n",
    "X.drop(\"Color\",axis=\"columns\",inplace=True)\n",
    "X.drop(\"fuel Type\",axis=\"columns\",inplace=True)\n",
    "X.drop(\"gear Type\",axis=\"columns\",inplace=True)\n",
    "X.drop(\"Origin\",axis=\"columns\",inplace=True)\n",
    "X.drop(\"Ad data push\",axis=\"columns\",inplace=True)"
   ]
  },
  {
   "cell_type": "markdown",
   "metadata": {},
   "source": [
    "# Split The Data "
   ]
  },
  {
   "cell_type": "code",
   "execution_count": 16,
   "metadata": {},
   "outputs": [
    {
     "name": "stdout",
     "output_type": "stream",
     "text": [
      "398\n",
      "133\n",
      "398\n",
      "133\n"
     ]
    }
   ],
   "source": [
    "X_train, X_test, Y_train, Y_test = train_test_split(X, y, random_state=0)\n",
    "\n",
    "print(len(X_train))\n",
    "print(len(X_test))\n",
    "print(len(Y_train))\n",
    "print(len(Y_test))\n"
   ]
  },
  {
   "cell_type": "code",
   "execution_count": null,
   "metadata": {},
   "outputs": [],
   "source": [
    "New_Car = np.array(['Skoda','Octavia',2016,'Silver','Petrol','Automatic',1400,70000,'private'])\n",
    "New_Car2 = [2016,1400]\n",
    "\n",
    "\n",
    "\n",
    "New_Car2+=enc.transform(New_Car[0].reshape(-1, 1))\n",
    "New_Car2+=enc1.transform(New_Car[1].reshape(-1, 1))\n",
    "New_Car2+=enc3.transform(New_Car[4].reshape(-1, 1))\n",
    "New_Car2+=enc4.transform(New_Car[5].reshape(-1, 1))\n",
    "New_Car2+=enc5.transform(New_Car[8].reshape(-1, 1))\n"
   ]
  },
  {
   "cell_type": "code",
   "execution_count": null,
   "metadata": {},
   "outputs": [],
   "source": [
    "X.info()\n"
   ]
  },
  {
   "cell_type": "code",
   "execution_count": 17,
   "metadata": {},
   "outputs": [
    {
     "data": {
      "text/plain": [
       "<AxesSubplot:xlabel='produce year', ylabel='price'>"
      ]
     },
     "execution_count": 17,
     "metadata": {},
     "output_type": "execute_result"
    },
    {
     "data": {
      "image/png": "[encoded data removed]",
      "text/plain": [
       "<Figure size 432x288 with 1 Axes>"
      ]
     },
     "metadata": {
      "needs_background": "light"
     },
     "output_type": "display_data"
    }
   ],
   "source": [
    "MyData.plot(kind=\"scatter\",x=\"produce year\",y=\"price\",alpha=0.1)"
   ]
  },
  {
   "cell_type": "markdown",
   "metadata": {},
   "source": [
    "# Lock For The Corrloation"
   ]
  },
  {
   "cell_type": "code",
   "execution_count": 18,
   "metadata": {},
   "outputs": [
    {
     "data": {
      "text/html": [
       "<div>\n",
       "<style scoped>\n",
       "    .dataframe tbody tr th:only-of-type {\n",
       "        vertical-align: middle;\n",
       "    }\n",
       "\n",
       "    .dataframe tbody tr th {\n",
       "        vertical-align: top;\n",
       "    }\n",
       "\n",
       "    .dataframe thead th {\n",
       "        text-align: right;\n",
       "    }\n",
       "</style>\n",
       "<table border=\"1\" class=\"dataframe\">\n",
       "  <thead>\n",
       "    <tr style=\"text-align: right;\">\n",
       "      <th></th>\n",
       "      <th>produce year</th>\n",
       "      <th>eng power</th>\n",
       "      <th>distance</th>\n",
       "      <th>price</th>\n",
       "    </tr>\n",
       "  </thead>\n",
       "  <tbody>\n",
       "    <tr>\n",
       "      <th>produce year</th>\n",
       "      <td>1.000000</td>\n",
       "      <td>-0.118217</td>\n",
       "      <td>-0.245961</td>\n",
       "      <td>0.253754</td>\n",
       "    </tr>\n",
       "    <tr>\n",
       "      <th>eng power</th>\n",
       "      <td>-0.118217</td>\n",
       "      <td>1.000000</td>\n",
       "      <td>0.149251</td>\n",
       "      <td>0.157836</td>\n",
       "    </tr>\n",
       "    <tr>\n",
       "      <th>distance</th>\n",
       "      <td>-0.245961</td>\n",
       "      <td>0.149251</td>\n",
       "      <td>1.000000</td>\n",
       "      <td>-0.082169</td>\n",
       "    </tr>\n",
       "    <tr>\n",
       "      <th>price</th>\n",
       "      <td>0.253754</td>\n",
       "      <td>0.157836</td>\n",
       "      <td>-0.082169</td>\n",
       "      <td>1.000000</td>\n",
       "    </tr>\n",
       "  </tbody>\n",
       "</table>\n",
       "</div>"
      ],
      "text/plain": [
       "              produce year  eng power  distance     price\n",
       "produce year      1.000000  -0.118217 -0.245961  0.253754\n",
       "eng power        -0.118217   1.000000  0.149251  0.157836\n",
       "distance         -0.245961   0.149251  1.000000 -0.082169\n",
       "price             0.253754   0.157836 -0.082169  1.000000"
      ]
     },
     "execution_count": 18,
     "metadata": {},
     "output_type": "execute_result"
    }
   ],
   "source": [
    "Corr = MyData.corr()\n",
    "Corr"
   ]
  },
  {
   "cell_type": "code",
   "execution_count": 19,
   "metadata": {},
   "outputs": [
    {
     "data": {
      "text/plain": [
       "array([[<AxesSubplot:xlabel='produce year', ylabel='produce year'>,\n",
       "        <AxesSubplot:xlabel='eng power', ylabel='produce year'>,\n",
       "        <AxesSubplot:xlabel='distance', ylabel='produce year'>,\n",
       "        <AxesSubplot:xlabel='price', ylabel='produce year'>],\n",
       "       [<AxesSubplot:xlabel='produce year', ylabel='eng power'>,\n",
       "        <AxesSubplot:xlabel='eng power', ylabel='eng power'>,\n",
       "        <AxesSubplot:xlabel='distance', ylabel='eng power'>,\n",
       "        <AxesSubplot:xlabel='price', ylabel='eng power'>],\n",
       "       [<AxesSubplot:xlabel='produce year', ylabel='distance'>,\n",
       "        <AxesSubplot:xlabel='eng power', ylabel='distance'>,\n",
       "        <AxesSubplot:xlabel='distance', ylabel='distance'>,\n",
       "        <AxesSubplot:xlabel='price', ylabel='distance'>],\n",
       "       [<AxesSubplot:xlabel='produce year', ylabel='price'>,\n",
       "        <AxesSubplot:xlabel='eng power', ylabel='price'>,\n",
       "        <AxesSubplot:xlabel='distance', ylabel='price'>,\n",
       "        <AxesSubplot:xlabel='price', ylabel='price'>]], dtype=object)"
      ]
     },
     "execution_count": 19,
     "metadata": {},
     "output_type": "execute_result"
    },
    {
     "data": {
      "image/png": "[encoded data removed]",
      "text/plain": [
       "<Figure size 864x576 with 16 Axes>"
      ]
     },
     "metadata": {
      "needs_background": "light"
     },
     "output_type": "display_data"
    }
   ],
   "source": [
    "attr = [\"Make\",\"Model\",\"produce year\",\"Color\",\"fuel Type\",\"gear Type\",\"eng power\",\"distance\",\"Origin\",\"Ad data push\",\"price\"]\n",
    "\n",
    "scatter_matrix(MyData[attr],figsize=(12,8))\n"
   ]
  },
  {
   "cell_type": "markdown",
   "metadata": {},
   "source": [
    "# Now We want To build Multiple Model To get The Result"
   ]
  },
  {
   "cell_type": "code",
   "execution_count": 20,
   "metadata": {},
   "outputs": [
    {
     "name": "stderr",
     "output_type": "stream",
     "text": [
      "/Library/Frameworks/Python.framework/Versions/3.7/lib/python3.7/site-packages/sklearn/linear_model/_logistic.py:764: ConvergenceWarning: lbfgs failed to converge (status=1):\n",
      "STOP: TOTAL NO. of ITERATIONS REACHED LIMIT.\n",
      "\n",
      "Increase the number of iterations (max_iter) or scale the data as shown in:\n",
      "    https://scikit-learn.org/stable/modules/preprocessing.html\n",
      "Please also refer to the documentation for alternative solver options:\n",
      "    https://scikit-learn.org/stable/modules/linear_model.html#logistic-regression\n",
      "  extra_warning_msg=_LOGISTIC_SOLVER_CONVERGENCE_MSG)\n"
     ]
    }
   ],
   "source": [
    "import sklearn.linear_model\n",
    "\n",
    "model = sklearn.linear_model.LinearRegression()\n",
    "model2 = sklearn.linear_model.LogisticRegression()\n",
    "\n",
    "gen_Liner = model.fit(X_train,Y_train)\n",
    "gen_Logistic = model2.fit(X_train,Y_train)"
   ]
  },
  {
   "cell_type": "code",
   "execution_count": 21,
   "metadata": {},
   "outputs": [
    {
     "name": "stdout",
     "output_type": "stream",
     "text": [
      "68000\n",
      "57000\n"
     ]
    }
   ],
   "source": [
    "Y_p = gen_Logistic.predict(X_test)\n",
    "\n",
    "print(Y_p[1])\n",
    "print(Y_test[1])\n"
   ]
  },
  {
   "cell_type": "code",
   "execution_count": 23,
   "metadata": {},
   "outputs": [
    {
     "name": "stdout",
     "output_type": "stream",
     "text": [
      "29526\n",
      "22000\n"
     ]
    }
   ],
   "source": [
    "y_p=gen_Liner.predict(X_train)\n",
    "\n",
    "print(round(y_p[1]))\n",
    "print(Y_train[1])\n"
   ]
  },
  {
   "cell_type": "code",
   "execution_count": 24,
   "metadata": {},
   "outputs": [
    {
     "name": "stderr",
     "output_type": "stream",
     "text": [
      "/Library/Frameworks/Python.framework/Versions/3.7/lib/python3.7/site-packages/sklearn/linear_model/_coordinate_descent.py:531: ConvergenceWarning: Objective did not converge. You might want to increase the number of iterations. Duality gap: 457151184634.0133, tolerance: 228263869.2822469\n",
      "  positive)\n",
      "/Library/Frameworks/Python.framework/Versions/3.7/lib/python3.7/site-packages/sklearn/linear_model/_coordinate_descent.py:531: ConvergenceWarning: Objective did not converge. You might want to increase the number of iterations. Duality gap: 228308565391.8393, tolerance: 234673460.49246335\n",
      "  positive)\n",
      "/Library/Frameworks/Python.framework/Versions/3.7/lib/python3.7/site-packages/sklearn/linear_model/_coordinate_descent.py:531: ConvergenceWarning: Objective did not converge. You might want to increase the number of iterations. Duality gap: 380790601310.84033, tolerance: 241322432.99313453\n",
      "  positive)\n",
      "/Library/Frameworks/Python.framework/Versions/3.7/lib/python3.7/site-packages/sklearn/linear_model/_coordinate_descent.py:531: ConvergenceWarning: Objective did not converge. You might want to increase the number of iterations. Duality gap: 494231382823.5894, tolerance: 300436857.35693353\n",
      "  positive)\n",
      "/Library/Frameworks/Python.framework/Versions/3.7/lib/python3.7/site-packages/sklearn/linear_model/_coordinate_descent.py:531: ConvergenceWarning: Objective did not converge. You might want to increase the number of iterations. Duality gap: 240082652238.17065, tolerance: 250478303.92567134\n",
      "  positive)\n",
      "/Library/Frameworks/Python.framework/Versions/3.7/lib/python3.7/site-packages/sklearn/linear_model/_coordinate_descent.py:531: ConvergenceWarning: Objective did not converge. You might want to increase the number of iterations. Duality gap: 462079747341.00684, tolerance: 228263869.2822469\n",
      "  positive)\n",
      "/Library/Frameworks/Python.framework/Versions/3.7/lib/python3.7/site-packages/sklearn/linear_model/_coordinate_descent.py:531: ConvergenceWarning: Objective did not converge. You might want to increase the number of iterations. Duality gap: 507977173395.39197, tolerance: 234673460.49246335\n",
      "  positive)\n",
      "/Library/Frameworks/Python.framework/Versions/3.7/lib/python3.7/site-packages/sklearn/linear_model/_coordinate_descent.py:531: ConvergenceWarning: Objective did not converge. You might want to increase the number of iterations. Duality gap: 380792885079.09216, tolerance: 241322432.99313453\n",
      "  positive)\n",
      "/Library/Frameworks/Python.framework/Versions/3.7/lib/python3.7/site-packages/sklearn/linear_model/_coordinate_descent.py:531: ConvergenceWarning: Objective did not converge. You might want to increase the number of iterations. Duality gap: 500956751162.73303, tolerance: 300436857.35693353\n",
      "  positive)\n",
      "/Library/Frameworks/Python.framework/Versions/3.7/lib/python3.7/site-packages/sklearn/linear_model/_coordinate_descent.py:531: ConvergenceWarning: Objective did not converge. You might want to increase the number of iterations. Duality gap: 236827706850.6114, tolerance: 250478303.92567134\n",
      "  positive)\n",
      "/Library/Frameworks/Python.framework/Versions/3.7/lib/python3.7/site-packages/sklearn/linear_model/_coordinate_descent.py:531: ConvergenceWarning: Objective did not converge. You might want to increase the number of iterations. Duality gap: 626056141965.4982, tolerance: 228263869.2822469\n",
      "  positive)\n",
      "/Library/Frameworks/Python.framework/Versions/3.7/lib/python3.7/site-packages/sklearn/linear_model/_coordinate_descent.py:531: ConvergenceWarning: Objective did not converge. You might want to increase the number of iterations. Duality gap: 507640961492.09796, tolerance: 234673460.49246335\n",
      "  positive)\n",
      "/Library/Frameworks/Python.framework/Versions/3.7/lib/python3.7/site-packages/sklearn/linear_model/_coordinate_descent.py:531: ConvergenceWarning: Objective did not converge. You might want to increase the number of iterations. Duality gap: 542557379414.0777, tolerance: 241322432.99313453\n",
      "  positive)\n",
      "/Library/Frameworks/Python.framework/Versions/3.7/lib/python3.7/site-packages/sklearn/linear_model/_coordinate_descent.py:531: ConvergenceWarning: Objective did not converge. You might want to increase the number of iterations. Duality gap: 742790165108.265, tolerance: 300436857.35693353\n",
      "  positive)\n",
      "/Library/Frameworks/Python.framework/Versions/3.7/lib/python3.7/site-packages/sklearn/linear_model/_coordinate_descent.py:531: ConvergenceWarning: Objective did not converge. You might want to increase the number of iterations. Duality gap: 480614555232.3227, tolerance: 250478303.92567134\n",
      "  positive)\n",
      "/Library/Frameworks/Python.framework/Versions/3.7/lib/python3.7/site-packages/sklearn/linear_model/_coordinate_descent.py:531: ConvergenceWarning: Objective did not converge. You might want to increase the number of iterations. Duality gap: 607102207800.1486, tolerance: 228263869.2822469\n",
      "  positive)\n",
      "/Library/Frameworks/Python.framework/Versions/3.7/lib/python3.7/site-packages/sklearn/linear_model/_coordinate_descent.py:531: ConvergenceWarning: Objective did not converge. You might want to increase the number of iterations. Duality gap: 506816960461.6426, tolerance: 234673460.49246335\n",
      "  positive)\n",
      "/Library/Frameworks/Python.framework/Versions/3.7/lib/python3.7/site-packages/sklearn/linear_model/_coordinate_descent.py:531: ConvergenceWarning: Objective did not converge. You might want to increase the number of iterations. Duality gap: 535052068820.6464, tolerance: 241322432.99313453\n",
      "  positive)\n",
      "/Library/Frameworks/Python.framework/Versions/3.7/lib/python3.7/site-packages/sklearn/linear_model/_coordinate_descent.py:531: ConvergenceWarning: Objective did not converge. You might want to increase the number of iterations. Duality gap: 747711249933.2002, tolerance: 300436857.35693353\n",
      "  positive)\n",
      "/Library/Frameworks/Python.framework/Versions/3.7/lib/python3.7/site-packages/sklearn/linear_model/_coordinate_descent.py:531: ConvergenceWarning: Objective did not converge. You might want to increase the number of iterations. Duality gap: 346630678964.34534, tolerance: 250478303.92567134\n",
      "  positive)\n",
      "/Library/Frameworks/Python.framework/Versions/3.7/lib/python3.7/site-packages/sklearn/linear_model/_coordinate_descent.py:531: ConvergenceWarning: Objective did not converge. You might want to increase the number of iterations. Duality gap: 670758235720.4457, tolerance: 228263869.2822469\n",
      "  positive)\n",
      "/Library/Frameworks/Python.framework/Versions/3.7/lib/python3.7/site-packages/sklearn/linear_model/_coordinate_descent.py:531: ConvergenceWarning: Objective did not converge. You might want to increase the number of iterations. Duality gap: 506946357608.8135, tolerance: 234673460.49246335\n",
      "  positive)\n",
      "/Library/Frameworks/Python.framework/Versions/3.7/lib/python3.7/site-packages/sklearn/linear_model/_coordinate_descent.py:531: ConvergenceWarning: Objective did not converge. You might want to increase the number of iterations. Duality gap: 312768993469.239, tolerance: 241322432.99313453\n",
      "  positive)\n",
      "/Library/Frameworks/Python.framework/Versions/3.7/lib/python3.7/site-packages/sklearn/linear_model/_coordinate_descent.py:531: ConvergenceWarning: Objective did not converge. You might want to increase the number of iterations. Duality gap: 743663483087.3572, tolerance: 300436857.35693353\n",
      "  positive)\n",
      "/Library/Frameworks/Python.framework/Versions/3.7/lib/python3.7/site-packages/sklearn/linear_model/_coordinate_descent.py:531: ConvergenceWarning: Objective did not converge. You might want to increase the number of iterations. Duality gap: 458579169925.16003, tolerance: 250478303.92567134\n",
      "  positive)\n",
      "/Library/Frameworks/Python.framework/Versions/3.7/lib/python3.7/site-packages/sklearn/linear_model/_coordinate_descent.py:531: ConvergenceWarning: Objective did not converge. You might want to increase the number of iterations. Duality gap: 671005191031.3374, tolerance: 228263869.2822469\n",
      "  positive)\n",
      "/Library/Frameworks/Python.framework/Versions/3.7/lib/python3.7/site-packages/sklearn/linear_model/_coordinate_descent.py:531: ConvergenceWarning: Objective did not converge. You might want to increase the number of iterations. Duality gap: 505601847939.4668, tolerance: 234673460.49246335\n",
      "  positive)\n",
      "/Library/Frameworks/Python.framework/Versions/3.7/lib/python3.7/site-packages/sklearn/linear_model/_coordinate_descent.py:531: ConvergenceWarning: Objective did not converge. You might want to increase the number of iterations. Duality gap: 543655031100.4917, tolerance: 241322432.99313453\n",
      "  positive)\n",
      "/Library/Frameworks/Python.framework/Versions/3.7/lib/python3.7/site-packages/sklearn/linear_model/_coordinate_descent.py:531: ConvergenceWarning: Objective did not converge. You might want to increase the number of iterations. Duality gap: 747906893579.1107, tolerance: 300436857.35693353\n",
      "  positive)\n"
     ]
    },
    {
     "name": "stderr",
     "output_type": "stream",
     "text": [
      "/Library/Frameworks/Python.framework/Versions/3.7/lib/python3.7/site-packages/sklearn/linear_model/_coordinate_descent.py:531: ConvergenceWarning: Objective did not converge. You might want to increase the number of iterations. Duality gap: 219376567820.19684, tolerance: 250478303.92567134\n",
      "  positive)\n",
      "/Library/Frameworks/Python.framework/Versions/3.7/lib/python3.7/site-packages/sklearn/linear_model/_coordinate_descent.py:531: ConvergenceWarning: Objective did not converge. You might want to increase the number of iterations. Duality gap: 671637827989.1812, tolerance: 228263869.2822469\n",
      "  positive)\n",
      "/Library/Frameworks/Python.framework/Versions/3.7/lib/python3.7/site-packages/sklearn/linear_model/_coordinate_descent.py:531: ConvergenceWarning: Objective did not converge. You might want to increase the number of iterations. Duality gap: 509316864073.8032, tolerance: 234673460.49246335\n",
      "  positive)\n",
      "/Library/Frameworks/Python.framework/Versions/3.7/lib/python3.7/site-packages/sklearn/linear_model/_coordinate_descent.py:531: ConvergenceWarning: Objective did not converge. You might want to increase the number of iterations. Duality gap: 538425533378.2049, tolerance: 241322432.99313453\n",
      "  positive)\n",
      "/Library/Frameworks/Python.framework/Versions/3.7/lib/python3.7/site-packages/sklearn/linear_model/_coordinate_descent.py:531: ConvergenceWarning: Objective did not converge. You might want to increase the number of iterations. Duality gap: 747517171121.4427, tolerance: 300436857.35693353\n",
      "  positive)\n",
      "/Library/Frameworks/Python.framework/Versions/3.7/lib/python3.7/site-packages/sklearn/linear_model/_coordinate_descent.py:531: ConvergenceWarning: Objective did not converge. You might want to increase the number of iterations. Duality gap: 199323988680.91223, tolerance: 250478303.92567134\n",
      "  positive)\n",
      "/Library/Frameworks/Python.framework/Versions/3.7/lib/python3.7/site-packages/sklearn/linear_model/_coordinate_descent.py:531: ConvergenceWarning: Objective did not converge. You might want to increase the number of iterations. Duality gap: 591857292592.6405, tolerance: 228263869.2822469\n",
      "  positive)\n",
      "/Library/Frameworks/Python.framework/Versions/3.7/lib/python3.7/site-packages/sklearn/linear_model/_coordinate_descent.py:531: ConvergenceWarning: Objective did not converge. You might want to increase the number of iterations. Duality gap: 509153650883.07477, tolerance: 234673460.49246335\n",
      "  positive)\n",
      "/Library/Frameworks/Python.framework/Versions/3.7/lib/python3.7/site-packages/sklearn/linear_model/_coordinate_descent.py:531: ConvergenceWarning: Objective did not converge. You might want to increase the number of iterations. Duality gap: 539478893128.0631, tolerance: 241322432.99313453\n",
      "  positive)\n",
      "/Library/Frameworks/Python.framework/Versions/3.7/lib/python3.7/site-packages/sklearn/linear_model/_coordinate_descent.py:531: ConvergenceWarning: Objective did not converge. You might want to increase the number of iterations. Duality gap: 606846789216.5161, tolerance: 300436857.35693353\n",
      "  positive)\n",
      "/Library/Frameworks/Python.framework/Versions/3.7/lib/python3.7/site-packages/sklearn/linear_model/_coordinate_descent.py:531: ConvergenceWarning: Objective did not converge. You might want to increase the number of iterations. Duality gap: 351517846403.13257, tolerance: 250478303.92567134\n",
      "  positive)\n",
      "/Library/Frameworks/Python.framework/Versions/3.7/lib/python3.7/site-packages/sklearn/linear_model/_coordinate_descent.py:531: ConvergenceWarning: Objective did not converge. You might want to increase the number of iterations. Duality gap: 382366714440.8319, tolerance: 234673460.49246335\n",
      "  positive)\n"
     ]
    },
    {
     "data": {
      "text/plain": [
       "GridSearchCV(estimator=Lasso(),\n",
       "             param_grid={'alpha': array([1.00000000e-03, 2.89426612e-03, 8.37677640e-03, 2.42446202e-02,\n",
       "       7.01703829e-02, 2.03091762e-01, 5.87801607e-01, 1.70125428e+00,\n",
       "       4.92388263e+00, 1.42510267e+01, 4.12462638e+01, 1.19377664e+02,\n",
       "       3.45510729e+02, 1.00000000e+03])})"
      ]
     },
     "execution_count": 24,
     "metadata": {},
     "output_type": "execute_result"
    }
   ],
   "source": [
    "from sklearn.linear_model import Lasso\n",
    "from sklearn.model_selection import GridSearchCV\n",
    "\n",
    "alphas = np.logspace(-3,3,num=14) # range for alpha\n",
    "grid = GridSearchCV(estimator=Lasso(), param_grid=dict(alpha=alphas))\n",
    "grid.fit(X_train,Y_train)\n"
   ]
  },
  {
   "cell_type": "code",
   "execution_count": 25,
   "metadata": {},
   "outputs": [
    {
     "name": "stderr",
     "output_type": "stream",
     "text": [
      "/Library/Frameworks/Python.framework/Versions/3.7/lib/python3.7/site-packages/sklearn/linear_model/_ridge.py:148: LinAlgWarning: Ill-conditioned matrix (rcond=9.68717e-17): result may not be accurate.\n",
      "  overwrite_a=True).T\n",
      "/Library/Frameworks/Python.framework/Versions/3.7/lib/python3.7/site-packages/sklearn/linear_model/_ridge.py:148: LinAlgWarning: Ill-conditioned matrix (rcond=5.25386e-17): result may not be accurate.\n",
      "  overwrite_a=True).T\n",
      "/Library/Frameworks/Python.framework/Versions/3.7/lib/python3.7/site-packages/sklearn/linear_model/_ridge.py:148: LinAlgWarning: Ill-conditioned matrix (rcond=9.67256e-17): result may not be accurate.\n",
      "  overwrite_a=True).T\n",
      "/Library/Frameworks/Python.framework/Versions/3.7/lib/python3.7/site-packages/sklearn/linear_model/_ridge.py:148: LinAlgWarning: Ill-conditioned matrix (rcond=7.4983e-17): result may not be accurate.\n",
      "  overwrite_a=True).T\n",
      "/Library/Frameworks/Python.framework/Versions/3.7/lib/python3.7/site-packages/sklearn/linear_model/_ridge.py:148: LinAlgWarning: Ill-conditioned matrix (rcond=9.51253e-17): result may not be accurate.\n",
      "  overwrite_a=True).T\n"
     ]
    },
    {
     "data": {
      "text/plain": [
       "GridSearchCV(estimator=Ridge(),\n",
       "             param_grid={'alpha': array([1.00000000e-03, 2.89426612e-03, 8.37677640e-03, 2.42446202e-02,\n",
       "       7.01703829e-02, 2.03091762e-01, 5.87801607e-01, 1.70125428e+00,\n",
       "       4.92388263e+00, 1.42510267e+01, 4.12462638e+01, 1.19377664e+02,\n",
       "       3.45510729e+02, 1.00000000e+03])})"
      ]
     },
     "execution_count": 25,
     "metadata": {},
     "output_type": "execute_result"
    }
   ],
   "source": [
    "from sklearn.linear_model import Ridge\n",
    "\n",
    "alphas = np.logspace(-3,3,num=14) # range for alpha\n",
    "\n",
    "grid2 = GridSearchCV(estimator=Ridge(), param_grid=dict(alpha=alphas)) \n",
    "grid2.fit(X_train,Y_train)\n",
    "\n"
   ]
  },
  {
   "cell_type": "code",
   "execution_count": null,
   "metadata": {},
   "outputs": [],
   "source": [
    "# accuracy = grid2.score(X_test,Y_test)\n",
    "# print(accuracy*100,'%')"
   ]
  },
  {
   "cell_type": "code",
   "execution_count": 26,
   "metadata": {},
   "outputs": [
    {
     "name": "stdout",
     "output_type": "stream",
     "text": [
      "60268\n",
      "57000\n"
     ]
    }
   ],
   "source": [
    "pp_Lasso = grid.predict(X_test)\n",
    "print(round(pp_Lasso[1]))\n",
    "print(Y_test[1])\n"
   ]
  },
  {
   "cell_type": "code",
   "execution_count": 27,
   "metadata": {},
   "outputs": [
    {
     "name": "stdout",
     "output_type": "stream",
     "text": [
      "63259\n",
      "57000\n"
     ]
    }
   ],
   "source": [
    "pp_Ridge = grid2.predict(X_test)\n",
    "print(round(pp_Ridge[1]))\n",
    "print(Y_test[1])\n"
   ]
  },
  {
   "cell_type": "code",
   "execution_count": 28,
   "metadata": {},
   "outputs": [
    {
     "name": "stdout",
     "output_type": "stream",
     "text": [
      "16000\n",
      "57000\n"
     ]
    }
   ],
   "source": [
    "from sklearn.model_selection import GridSearchCV\n",
    "from sklearn.neighbors import KNeighborsClassifier\n",
    "knn_clf = KNeighborsClassifier(n_jobs=-1)\n",
    "# grid_search = GridSearchCV(knn_clf, param_grid, cv=3, verbose=3)\n",
    "knn_clf.fit(X_train,Y_train)\n",
    "y_k_pred = knn_clf.predict(X_test)\n",
    "\n",
    "print(y_k_pred[1])\n",
    "print(Y_test[1])"
   ]
  },
  {
   "cell_type": "code",
   "execution_count": 1,
   "metadata": {},
   "outputs": [
    {
     "ename": "NameError",
     "evalue": "name 'X_train' is not defined",
     "output_type": "error",
     "traceback": [
      "\u001b[0;31m---------------------------------------------------------------------------\u001b[0m",
      "\u001b[0;31mNameError\u001b[0m                                 Traceback (most recent call last)",
      "\u001b[0;32m<ipython-input-1-f3fc0917d975>\u001b[0m in \u001b[0;36m<module>\u001b[0;34m\u001b[0m\n\u001b[1;32m      1\u001b[0m \u001b[0;32mfrom\u001b[0m \u001b[0msklearn\u001b[0m\u001b[0;34m.\u001b[0m\u001b[0mlinear_model\u001b[0m \u001b[0;32mimport\u001b[0m \u001b[0mSGDClassifier\u001b[0m\u001b[0;34m\u001b[0m\u001b[0;34m\u001b[0m\u001b[0m\n\u001b[1;32m      2\u001b[0m \u001b[0msgd_clf\u001b[0m \u001b[0;34m=\u001b[0m \u001b[0mSGDClassifier\u001b[0m\u001b[0;34m(\u001b[0m\u001b[0mrandom_state\u001b[0m\u001b[0;34m=\u001b[0m\u001b[0;36m42\u001b[0m\u001b[0;34m,\u001b[0m\u001b[0mn_jobs\u001b[0m\u001b[0;34m=\u001b[0m\u001b[0;34m-\u001b[0m\u001b[0;36m1\u001b[0m\u001b[0;34m)\u001b[0m\u001b[0;34m\u001b[0m\u001b[0;34m\u001b[0m\u001b[0m\n\u001b[0;32m----> 3\u001b[0;31m \u001b[0msgd_clf\u001b[0m\u001b[0;34m.\u001b[0m\u001b[0mfit\u001b[0m\u001b[0;34m(\u001b[0m\u001b[0mX_train\u001b[0m\u001b[0;34m,\u001b[0m\u001b[0mY_train\u001b[0m\u001b[0;34m)\u001b[0m\u001b[0;34m\u001b[0m\u001b[0;34m\u001b[0m\u001b[0m\n\u001b[0m\u001b[1;32m      4\u001b[0m \u001b[0my_t_p\u001b[0m \u001b[0;34m=\u001b[0m \u001b[0msgd_clf\u001b[0m\u001b[0;34m.\u001b[0m\u001b[0mpredict\u001b[0m\u001b[0;34m(\u001b[0m\u001b[0mX_test\u001b[0m\u001b[0;34m)\u001b[0m\u001b[0;34m\u001b[0m\u001b[0;34m\u001b[0m\u001b[0m\n\u001b[1;32m      5\u001b[0m \u001b[0;34m\u001b[0m\u001b[0m\n",
      "\u001b[0;31mNameError\u001b[0m: name 'X_train' is not defined"
     ]
    }
   ],
   "source": [
    "from sklearn.linear_model import SGDClassifier\n",
    "sgd_clf = SGDClassifier(random_state=42,n_jobs=-1)\n",
    "sgd_clf.fit(X_train,Y_train)\n",
    "y_t_p = sgd_clf.predict(X_test)\n",
    "\n",
    "print(y_t_p[1])\n",
    "print(Y_test[1])\n",
    "\n"
   ]
  },
  {
   "cell_type": "code",
   "execution_count": 29,
   "metadata": {},
   "outputs": [
    {
     "name": "stdout",
     "output_type": "stream",
     "text": [
      "82900\n",
      "57000\n"
     ]
    }
   ],
   "source": [
    "rf = RandomForestClassifier(n_estimators=100,\n",
    "                            random_state=0)\n",
    "rf.fit(X_train, Y_train)\n",
    "\n",
    "Pre = rf.predict(X_test)\n",
    "\n",
    "print(Pre[1])\n",
    "print(Y_test[1])\n"
   ]
  }
 ],
 "metadata": {
  "kernelspec": {
   "display_name": "Python 3",
   "language": "python",
   "name": "python3"
  },
  "language_info": {
   "codemirror_mode": {
    "name": "ipython",
    "version": 3
   },
   "file_extension": ".py",
   "mimetype": "text/x-python",
   "name": "python",
   "nbconvert_exporter": "python",
   "pygments_lexer": "ipython3",
   "version": "3.8.2"
  }
 },
 "nbformat": 4,
 "nbformat_minor": 4
}
